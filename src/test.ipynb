{
 "cells": [
  {
   "cell_type": "markdown",
   "metadata": {},
   "source": [
    "Import Necessary Libraries"
   ]
  },
  {
   "cell_type": "code",
   "execution_count": 421,
   "metadata": {},
   "outputs": [],
   "source": [
    "import numpy as np\n",
    "import matplotlib.pyplot as plt\n",
    "from sklearn.datasets import fetch_openml\n",
    "from sklearn.model_selection import train_test_split\n",
    "from sklearn.neural_network import MLPClassifier\n",
    "from sklearn.metrics import accuracy_score\n",
    "from ANN import *"
   ]
  },
  {
   "cell_type": "markdown",
   "metadata": {},
   "source": [
    "Load the MNIST Dataset"
   ]
  },
  {
   "cell_type": "code",
   "execution_count": 442,
   "metadata": {},
   "outputs": [],
   "source": [
    "X, y = fetch_openml('mnist_784', version=1, return_X_y=True, parser='auto')"
   ]
  },
  {
   "cell_type": "markdown",
   "metadata": {},
   "source": [
    "Preprocessing (Formatting the data)"
   ]
  },
  {
   "cell_type": "code",
   "execution_count": 443,
   "metadata": {},
   "outputs": [],
   "source": [
    "X = X.to_numpy() if hasattr(X, 'to_numpy') else np.array(X)\n",
    "y = y.to_numpy() if hasattr(y, 'to_numpy') else np.array(y)\n",
    "y = y.astype(int) # numpy can't implicit cast, so explicit cast here\n",
    "\n",
    "# shuffles the contents\n",
    "idx = np.random.choice(len(X), 5000, replace=False) # 5000 is sample size, change if necessary\n",
    "X, y = X[idx], y[idx]\n",
    "# normalizes the RGB scale for the black-white value\n",
    "X = X / 255.0\n",
    "\n",
    "X_train, X_test, y_train, y_test = train_test_split(X, y, test_size=0.2, random_state=42)"
   ]
  },
  {
   "cell_type": "markdown",
   "metadata": {},
   "source": [
    "Model Preparation"
   ]
  },
  {
   "cell_type": "code",
   "execution_count": 522,
   "metadata": {},
   "outputs": [],
   "source": [
    "# from scratch ANN model\n",
    "inp = Layer(linear, [he_init, {\"seed\": 42}], 784) # initiate the layers\n",
    "hid_1 = Layer(h_tan, [he_init, {\"seed\": 47}], 64)\n",
    "hid_2 = Layer(h_tan, [he_init, {\"seed\": 45}], 64)\n",
    "hid_3 = Layer(h_tan, [he_init, {\"seed\": 43}], 64)\n",
    "hid_4 = Layer(h_tan, [he_init, {\"seed\": 48}], 64)\n",
    "out = Layer(softmax, [he_init, {\"seed\": 44}], 10)\n",
    "scratch_model = ANN(None, [hid_1], input=inp, output=out, error=CCE) # inititate the model\n",
    "scratch_model.train(X_train, y_train, batch_size=32, l_rate=0.01, epoch=5, verb=0)\n",
    "\n",
    "# sklearn library ANN model\n",
    "mlp = MLPClassifier(hidden_layer_sizes=(64,), activation='identity', solver='sgd', \n",
    "                      max_iter=5, random_state=42, learning_rate_init=0.01, batch_size=32) # initiate the model"
   ]
  },
  {
   "cell_type": "markdown",
   "metadata": {},
   "source": [
    "Model Testing and Comparison"
   ]
  },
  {
   "cell_type": "code",
   "execution_count": 523,
   "metadata": {},
   "outputs": [
    {
     "name": "stdout",
     "output_type": "stream",
     "text": [
      "Test accuracy: 0.8660\n",
      "sklearn accuracy: 0.9110\n"
     ]
    },
    {
     "name": "stderr",
     "output_type": "stream",
     "text": [
      "c:\\Python311\\Lib\\site-packages\\sklearn\\neural_network\\_multilayer_perceptron.py:690: ConvergenceWarning: Stochastic Optimizer: Maximum iterations (5) reached and the optimization hasn't converged yet.\n",
      "  warnings.warn(\n"
     ]
    }
   ],
   "source": [
    "preds = scratch_model.predict(X_test)\n",
    "test_acc = accuracy_score(y_test, np.argmax(preds, axis=1))\n",
    "print(f\"Test accuracy: {test_acc:.4f}\")\n",
    "\n",
    "mlp.fit(X_train, y_train)\n",
    "mlp_acc = mlp.score(X_test, y_test)\n",
    "print(f\"sklearn accuracy: {mlp_acc:.4f}\")"
   ]
  }
 ],
 "metadata": {
  "kernelspec": {
   "display_name": "Python 3",
   "language": "python",
   "name": "python3"
  },
  "language_info": {
   "codemirror_mode": {
    "name": "ipython",
    "version": 3
   },
   "file_extension": ".py",
   "mimetype": "text/x-python",
   "name": "python",
   "nbconvert_exporter": "python",
   "pygments_lexer": "ipython3",
   "version": "3.11.4"
  }
 },
 "nbformat": 4,
 "nbformat_minor": 2
}
